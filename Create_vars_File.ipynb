{
 "cells": [
  {
   "cell_type": "code",
   "execution_count": 1,
   "id": "7d08d8e0",
   "metadata": {},
   "outputs": [],
   "source": [
    "import timeit\n",
    "from timeit import default_timer as timer\n",
    "import math\n",
    "import pandas as pd\n",
    "import scipy.stats\n",
    "import numpy as np\n",
    "import datetime as dt\n",
    "import seaborn as sns\n",
    "import matplotlib.pyplot as plt\n",
    "%matplotlib inline\n",
    "start_time = timer()"
   ]
  },
  {
   "cell_type": "code",
   "execution_count": 2,
   "id": "d921b9dc",
   "metadata": {},
   "outputs": [],
   "source": [
    "data_new = pd.read_csv('candidate_variables_new.csv')"
   ]
  },
  {
   "cell_type": "code",
   "execution_count": 3,
   "id": "ae068d32",
   "metadata": {},
   "outputs": [
    {
     "data": {
      "text/plain": [
       "Index(['Unnamed: 0', 'Recnum', 'Cardnum_x', 'Date', 'Merchnum_x',\n",
       "       'Merch description', 'Merch state', 'Merch zip', 'Transtype', 'Amount',\n",
       "       ...\n",
       "       'Cardnum_Merchnum_MerchZip_count_0_by_60',\n",
       "       'Cardnum_Merchnum_MerchZip_count_0_by_90',\n",
       "       'Cardnum_Merchnum_MerchZip_count_1_by_3',\n",
       "       'Cardnum_Merchnum_MerchZip_count_1_by_7',\n",
       "       'Cardnum_Merchnum_MerchZip_count_1_by_14',\n",
       "       'Cardnum_Merchnum_MerchZip_count_1_by_30',\n",
       "       'Cardnum_Merchnum_MerchZip_count_1_by_60',\n",
       "       'Cardnum_Merchnum_MerchZip_count_1_by_90', 'Cardnum_U*', 'Merchnum_U*'],\n",
       "      dtype='object', length=1131)"
      ]
     },
     "execution_count": 3,
     "metadata": {},
     "output_type": "execute_result"
    }
   ],
   "source": [
    "data_new.columns"
   ]
  },
  {
   "cell_type": "code",
   "execution_count": 4,
   "id": "917b73ec",
   "metadata": {},
   "outputs": [],
   "source": [
    "data_new['Cardnum_U*'].fillna((data_new['Cardnum_U*'].mean()), inplace=True)"
   ]
  },
  {
   "cell_type": "code",
   "execution_count": 5,
   "id": "743a14d0",
   "metadata": {},
   "outputs": [],
   "source": [
    "data_new['Merchnum_U*'].fillna((data_new['Merchnum_U*'].mean()), inplace=True)"
   ]
  },
  {
   "cell_type": "code",
   "execution_count": 6,
   "id": "63ac3023",
   "metadata": {},
   "outputs": [],
   "source": [
    "data_new.to_csv('candidate_variables_new.csv')"
   ]
  },
  {
   "cell_type": "code",
   "execution_count": 7,
   "id": "c7af2b40",
   "metadata": {},
   "outputs": [],
   "source": [
    "df_new = pd.read_csv('vars1.csv')"
   ]
  },
  {
   "cell_type": "code",
   "execution_count": null,
   "id": "a8b83c6d",
   "metadata": {},
   "outputs": [],
   "source": []
  }
 ],
 "metadata": {
  "kernelspec": {
   "display_name": "Python 3 (ipykernel)",
   "language": "python",
   "name": "python3"
  },
  "language_info": {
   "codemirror_mode": {
    "name": "ipython",
    "version": 3
   },
   "file_extension": ".py",
   "mimetype": "text/x-python",
   "name": "python",
   "nbconvert_exporter": "python",
   "pygments_lexer": "ipython3",
   "version": "3.9.7"
  }
 },
 "nbformat": 4,
 "nbformat_minor": 5
}
